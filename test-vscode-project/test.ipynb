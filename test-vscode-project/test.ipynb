{
 "cells": [
  {
   "cell_type": "markdown",
   "metadata": {
    "id": "92xjWEKeInDL"
   },
   "source": [
    "CASA Standard Computing Environment Default Project\n",
    "------------------------------\n",
    "\n",
    "Using this Dev Container\n",
    "------------\n",
    "\n",
    "This default workspace should ask to be opened in a container (in the bottom right corner, click Reopen in Container and then VSCode will reload connected to the SDS Dev Container to allow you to code in the standard CASA environment."
   ]
  },
  {
   "cell_type": "code",
   "execution_count": null,
   "metadata": {
    "id": "S1siXLpdInDM"
   },
   "outputs": [],
   "source": [
    "print(\"Hello World!\");"
   ]
  },
  {
   "cell_type": "markdown",
   "metadata": {},
   "source": [
    "Usage \n",
    "---------\n",
    "\n",
    "To use this in your project just copy the folder and make sure you include the .devcontainer folder in your project.  If you require any other extensions then edit the devcontainer.json file to add the VSCode extensions you want to use. "
   ]
  },
  {
   "cell_type": "markdown",
   "metadata": {},
   "source": [
    "List of Python Libraries inside the container\n",
    "-----------------"
   ]
  },
  {
   "cell_type": "code",
   "execution_count": null,
   "metadata": {},
   "outputs": [],
   "source": [
    "!pip3 list"
   ]
  }
 ],
 "metadata": {
  "colab": {
   "collapsed_sections": [],
   "name": "W1. Python Recap.ipynb",
   "provenance": []
  },
  "kernelspec": {
   "display_name": "Python 3.9.13 64-bit",
   "language": "python",
   "name": "python3"
  },
  "language_info": {
   "codemirror_mode": {
    "name": "ipython",
    "version": 3
   },
   "file_extension": ".py",
   "mimetype": "text/x-python",
   "name": "python",
   "nbconvert_exporter": "python",
   "pygments_lexer": "ipython3",
   "version": "3.9.13"
  },
  "vscode": {
   "interpreter": {
    "hash": "949777d72b0d2535278d3dc13498b2535136f6dfe0678499012e853ee9abcab1"
   }
  }
 },
 "nbformat": 4,
 "nbformat_minor": 4
}
